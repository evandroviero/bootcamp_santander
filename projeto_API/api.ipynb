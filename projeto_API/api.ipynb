{
 "cells": [
  {
   "cell_type": "markdown",
   "metadata": {},
   "source": [
    "Entendendo o Desafio\n",
    "Agora é a sua hora de brilhar e construir um perfil de destaque na DIO! Explore todos os conceitos explorados até aqui e replique (ou melhore, porque não?) este projeto prático. Para isso, crie seu próprio repositório e aumente ainda mais seu portfólio de projetos no GitHub, o qual pode fazer toda diferença em suas entrevistas técnicas 😎\n",
    "\n",
    "Vocês já mergulharam a fundo no mundo da Ciência de Dados conosco! Juntos, construímos um pipeline ETL eficaz, começando com a simples extração de IDs de usuários de uma planilha, seguindo para uma transformação inovadora com a IA do GPT-4 da OpenAI, e culminando no carregamento desses dados transformados de volta ao 'Santander Dev Week 2023'. Agora, o desafio é reimaginar esse processo de ETL. Como vocês aplicariam o que aprenderam em um novo domínio de aplicação, sem depender diretamente de APIs externas (caso queiram simplificar)? Pensem nas infinitas possibilidades e domínios que podem ser explorados, e deixem a criatividade fluir!\n",
    "\n",
    "https://colab.research.google.com/drive/1SF_Q3AybFPozCcoFBptDSFbMk-6IVGF-?usp=sharing\n",
    "\n",
    "https://github.com/digitalinnovationone/santander-dev-week-2023-api"
   ]
  },
  {
   "cell_type": "code",
   "execution_count": 1,
   "metadata": {},
   "outputs": [],
   "source": [
    "import pandas as pd\n",
    "import requests\n",
    "import sqlite3\n",
    "import random\n",
    "import time"
   ]
  },
  {
   "cell_type": "code",
   "execution_count": 2,
   "metadata": {},
   "outputs": [],
   "source": [
    "def get_advice(url, id):\n",
    "    response = requests.get(f'{url}/{id}')\n",
    "    return response.json()\n",
    "\n",
    "def create_table(cursor, table):\n",
    "    cursor.execute(f'''\n",
    "        CREATE TABLE {table} (\n",
    "            id INTEGER PRIMARY KEY,\n",
    "            name TEXT NOT NULL,\n",
    "            email TEXT,\n",
    "            telephone TEXT,\n",
    "            msg TEXT\n",
    "        )\n",
    "    ''')\n",
    "    \n",
    "def insert_values(url, cursor, list_client, table):\n",
    "    for client in list_client:\n",
    "        number = random.randint(0, 10)\n",
    "        msg = get_advice(url, number)\n",
    "        send = client + (msg.get('slip').get('advice'), )\n",
    "        cursor.execute(f'INSERT INTO {table} (name, email, telephone, msg) VALUES(?, ?, ?, ?)', send)\n",
    "        time.sleep(2)\n",
    "        \n",
    "    conn.commit()\n",
    "    conn.close()"
   ]
  },
  {
   "cell_type": "code",
   "execution_count": 4,
   "metadata": {},
   "outputs": [
    {
     "name": "stdout",
     "output_type": "stream",
     "text": [
      "{'slip': {'id': 3, 'advice': \"Don't eat non-snow-coloured snow.\"}}\n",
      "{'slip': {'id': 5, 'advice': 'If you have the chance, take it!'}}\n",
      "{'slip': {'id': 4, 'advice': 'Cars are bad investments.'}}\n"
     ]
    }
   ],
   "source": [
    "url = 'https://api.adviceslip.com/advice'\n",
    "conn = sqlite3.connect('client.db')\n",
    "cursor = conn.cursor()\n",
    "table = 'client'\n",
    "\n",
    "\n",
    "list_client = [\n",
    "    ('João', 'joao@example.com', '123-456-7890'),\n",
    "    ('Maria', 'maria@example.com', '987-654-3210'),\n",
    "    ('Carlos', 'carlos@example.com', '555-555-5555')\n",
    "]\n",
    "\n",
    "\n",
    "cursor.execute(\"SELECT name FROM sqlite_master WHERE type='table' AND name='client'\")\n",
    "table_exists = cursor.fetchone()\n",
    "\n",
    "if not table_exists:\n",
    "    create_table(cursor, table)\n",
    "insert_values(url, cursor, list_client, table)\n"
   ]
  },
  {
   "cell_type": "code",
   "execution_count": null,
   "metadata": {},
   "outputs": [],
   "source": []
  }
 ],
 "metadata": {
  "kernelspec": {
   "display_name": "Python 3",
   "language": "python",
   "name": "python3"
  },
  "language_info": {
   "codemirror_mode": {
    "name": "ipython",
    "version": 3
   },
   "file_extension": ".py",
   "mimetype": "text/x-python",
   "name": "python",
   "nbconvert_exporter": "python",
   "pygments_lexer": "ipython3",
   "version": "3.11.4"
  },
  "orig_nbformat": 4
 },
 "nbformat": 4,
 "nbformat_minor": 2
}
